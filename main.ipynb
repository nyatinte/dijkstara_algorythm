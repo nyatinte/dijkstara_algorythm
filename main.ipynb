{
 "cells": [
  {
   "cell_type": "markdown",
   "metadata": {},
   "source": [
    "## setting "
   ]
  },
  {
   "cell_type": "code",
   "execution_count": 42,
   "metadata": {},
   "outputs": [],
   "source": [
    "# ライブラリ\n",
    "import copy\n",
    "import time\n",
    "# !pip install networkx\n",
    "import networkx as nx"
   ]
  },
  {
   "cell_type": "markdown",
   "metadata": {},
   "source": [
    "## 関数定義"
   ]
  },
  {
   "cell_type": "code",
   "execution_count": 30,
   "metadata": {},
   "outputs": [],
   "source": [
    "# 重みなしグラフを定義\n",
    "n = 5\n",
    "wall = '#'\n",
    "graph = [[wall]*(n+2)]\n",
    "for _ in range(n):\n",
    "    graph.append([wall] + [1]*n + [wall])\n",
    "graph.append([wall]*(n+2))\n",
    "graph[n][n] = 'G'"
   ]
  },
  {
   "cell_type": "code",
   "execution_count": 31,
   "metadata": {},
   "outputs": [],
   "source": [
    "# 全探索\n",
    "d_list=[]\n",
    "def exhaustive(graph, start_pos, length=0, ):\n",
    "    \"\"\"\n",
    "    Parameters\n",
    "    ----------\n",
    "    graph: list[list]\n",
    "      2次元リストのグラフ(重み関数は1)\n",
    "\n",
    "    start_pos: tuple\n",
    "      捜査開始点のタプル\n",
    "    \"\"\"\n",
    "    copied_graph = copy.deepcopy(graph)\n",
    "    sx, sy = start_pos\n",
    "    if copied_graph[sy][sx] == 'G':\n",
    "      d_list.append(length)\n",
    "      return True\n",
    "\n",
    "    copied_graph[sy][sx] = wall\n",
    "    # 上\n",
    "    if copied_graph[sy-1][sx] != wall:\n",
    "        exhaustive(copied_graph, (sx, sy-1), length=length+1)\n",
    "    # 右\n",
    "    if copied_graph[sy][sx+1] != wall:\n",
    "        exhaustive(copied_graph, (sx+1, sy), length=length+1)\n",
    "    # 下\n",
    "    if copied_graph[sy+1][sx] != wall:\n",
    "        exhaustive(copied_graph, (sx, sy+1), length=length+1)\n",
    "    # 左\n",
    "    if copied_graph[sy][sx-1] != wall:\n",
    "        exhaustive(copied_graph, (sx-1, sy), length=length+1)\n",
    "    \n",
    "    return True"
   ]
  },
  {
   "cell_type": "code",
   "execution_count": 44,
   "metadata": {},
   "outputs": [],
   "source": [
    "\n",
    "# ノード（頂点）のリスト\n",
    "NODE_LIST = [f'{x}{y}' for x in range(1, n+1) for y in range(1, n+1)]\n",
    "\n",
    "def get_edge(graph):\n",
    "    edge_list = []\n",
    "    for y in range(1, n+1):\n",
    "        for x in range(1, n+1):\n",
    "            # 上\n",
    "            if graph[y-1][x] != wall:\n",
    "                edge_list.append((f'{x}{y}', f'{x}{y-1}', 1))\n",
    "            # 右\n",
    "            if graph[y][x+1] != wall:\n",
    "                edge_list.append((f'{x}{y}', f'{x+1}{y}', 1))\n",
    "            # 下\n",
    "            if graph[y+1][x] != wall:\n",
    "                edge_list.append((f'{x}{y}', f'{x}{y+1}', 1))\n",
    "            # 左\n",
    "            if graph[y][x-1] != wall:\n",
    "                edge_list.append((f'{x}{y}', f'{x-1}{y}', 1))\n",
    "                \n",
    "    return edge_list\n",
    "    \n",
    "# エッジ（辺）のリスト\n",
    "# (始点, 終点, 重み)\n",
    "EDGE_LIST = get_edge(graph)\n",
    "\n",
    "def dijkstra():\n",
    "    # グラフの定義\n",
    "    DG = nx.DiGraph()\n",
    "    DG.add_nodes_from(NODE_LIST)\n",
    "    DG.add_weighted_edges_from(EDGE_LIST)\n",
    "\n",
    "    # 出発地ノードと目的地ノードを設定\n",
    "    start = \"11\"\n",
    "    end = f\"{n}{n}\"\n",
    "\n",
    "    # ダイクストラ法で最短経路とその重みを求める\n",
    "    shortest_path = nx.dijkstra_path(DG, start, end)\n",
    "    shortest_path_weight = nx.dijkstra_path_length(DG, start, end)\n",
    "\n",
    "    # 出力\n",
    "    print(\"Shortest Path:\", shortest_path)\n",
    "    print(\"Weight:\", shortest_path_weight)"
   ]
  },
  {
   "cell_type": "markdown",
   "metadata": {},
   "source": [
    "## 速度比較"
   ]
  },
  {
   "cell_type": "code",
   "execution_count": 46,
   "metadata": {},
   "outputs": [
    {
     "name": "stdout",
     "output_type": "stream",
     "text": [
      "全探索\n",
      "====================\n",
      "最短距離: 8\n",
      "計算時間: 4.858321189880371\n",
      "\n",
      "\n",
      "\n",
      "ダイクストラ法\n",
      "====================\n",
      "Shortest Path: ['11', '21', '31', '41', '51', '52', '53', '54', '55']\n",
      "Weight: 8\n",
      "計算時間: 0.0005269050598144531\n"
     ]
    }
   ],
   "source": [
    "# 全探索\n",
    "print(f'全探索\\n{\"=\"*20}')\n",
    "start = time.time()\n",
    "\n",
    "exhaustive(graph, (1, 1))\n",
    "print(f'最短距離: {min(d_list)}')\n",
    "\n",
    "print(f'計算時間: {time.time()-start}')\n",
    "\n",
    "print('\\n\\n')\n",
    "# ダイクストラ法\n",
    "print(f'ダイクストラ法\\n{\"=\"*20}')\n",
    "start = time.time()\n",
    "\n",
    "dijkstra()\n",
    "\n",
    "print(f'計算時間: {time.time()-start}')"
   ]
  },
  {
   "cell_type": "code",
   "execution_count": null,
   "metadata": {},
   "outputs": [],
   "source": []
  }
 ],
 "metadata": {
  "kernelspec": {
   "display_name": "Python 3.9.0 64-bit ('shims': pyenv)",
   "language": "python",
   "name": "python3"
  },
  "language_info": {
   "codemirror_mode": {
    "name": "ipython",
    "version": 3
   },
   "file_extension": ".py",
   "mimetype": "text/x-python",
   "name": "python",
   "nbconvert_exporter": "python",
   "pygments_lexer": "ipython3",
   "version": "3.9.7"
  },
  "orig_nbformat": 4,
  "vscode": {
   "interpreter": {
    "hash": "db604185a858e21c0c77deaf93555b7f68c26ac13383f181ba36be5217514d16"
   }
  }
 },
 "nbformat": 4,
 "nbformat_minor": 2
}
